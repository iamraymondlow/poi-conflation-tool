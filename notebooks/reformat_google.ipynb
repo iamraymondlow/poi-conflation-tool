{
 "cells": [
  {
   "cell_type": "code",
   "execution_count": 42,
   "metadata": {
    "collapsed": true
   },
   "outputs": [],
   "source": [
    "import json\n",
    "import pandas as pd\n",
    "import geopandas as gpd"
   ]
  },
  {
   "cell_type": "code",
   "execution_count": 49,
   "outputs": [],
   "source": [
    "def load_google_as_geopandas(cache_directory):\n",
    "    \"\"\"\n",
    "    This function loads a local JSON file and converts it into a Geodataframe.\n",
    "\n",
    "    :param cache_directory: str\n",
    "        Contains the directory for the cache POI data file.\n",
    "    :return:\n",
    "    data: geopandas\n",
    "        Contains the cached POI data file formatted as a Geodataframe.\n",
    "    \"\"\"\n",
    "    with open(cache_directory) as file:\n",
    "        data_json = json.load(file)\n",
    "    data = pd.json_normalize(data_json['features'])\n",
    "    data[['geometry.lat','geometry.lng']] = pd.DataFrame(data['geometry.location.coordinates'].tolist(), index= data.index)\n",
    "    data = gpd.GeoDataFrame(data,\n",
    "                            geometry=gpd.points_from_xy(data['geometry.lng'],\n",
    "                                                        data['geometry.lat']))\n",
    "    return data\n",
    "\n",
    "\n",
    "def load_json_as_geopandas(cache_directory):\n",
    "    \"\"\"\n",
    "    This function loads a local JSON file and converts it into a Geodataframe.\n",
    "\n",
    "    :param cache_directory: str\n",
    "        Contains the directory for the cache POI data file.\n",
    "    :return:\n",
    "    data: geopandas\n",
    "        Contains the cached POI data file formatted as a Geodataframe.\n",
    "    \"\"\"\n",
    "    with open(cache_directory) as file:\n",
    "        data_json = json.load(file)\n",
    "    data = pd.json_normalize(data_json['features'])\n",
    "    data = gpd.GeoDataFrame(data,\n",
    "                            geometry=gpd.points_from_xy(data['geometry.lng'],\n",
    "                                                        data['geometry.lat']))\n",
    "    return data\n",
    "\n",
    "\n",
    "def convert_to_json(data):\n",
    "    features = []\n",
    "    for i in range(len(data)):\n",
    "        if 'route' in data.loc[i, 'properties.place_type'] or 'neighborhood' in data.loc[i, 'properties.place_type']:\n",
    "            continue\n",
    "\n",
    "        poi_dict = {\n",
    "            'type': 'Feature',\n",
    "            'geometry': {'lat': data.loc[i, 'geometry.lat'], 'lng': data.loc[i, 'geometry.lng']},\n",
    "            'properties': {'address': data.loc[i, 'properties.address'],\n",
    "                           'name': data.loc[i, 'properties.name'],\n",
    "                           'place_type': '; '.join(data.loc[i, 'properties.place_type']),\n",
    "                           'source': 'GoogleMap',\n",
    "                           'requires_verification': {'summary': 'No'}},\n",
    "            'id': data.loc[i, 'id'],\n",
    "            'extraction_date': \"20201028\"\n",
    "        }\n",
    "        features.append(poi_dict)\n",
    "\n",
    "    return features"
   ],
   "metadata": {
    "collapsed": false,
    "pycharm": {
     "name": "#%%\n"
    }
   }
  },
  {
   "cell_type": "code",
   "execution_count": 50,
   "outputs": [],
   "source": [
    "google_directory = '../data/googlemap/googlemap_poi_tampines_25vbb.json'\n",
    "google_data = load_google_as_geopandas(google_directory)\n",
    "google_data.drop(columns=['geometry.location.type',\n",
    "                          'geometry.location.coordinates', 'properties.address.country',\n",
    "                          'properties.address.house_number', 'properties.address.road',\n",
    "                          'properties.address.city', 'properties.address.house',\n",
    "                          'properties.address.level', 'properties.address.unit',\n",
    "                          'properties.address.postcode', 'properties.address.entrance',\n",
    "                          'properties.address.suburb', 'properties.address.po_box',\n",
    "                          'properties.address.category', 'properties.address.near',\n",
    "                          'properties.address.city_district', 'properties.address.state'],\n",
    "                 inplace=True)\n",
    "google_data.rename(columns={\"properties.address.formatted_address\": \"properties.address\"},\n",
    "                   inplace=True)\n",
    "formatted_features = convert_to_json(google_data)\n",
    "\n",
    "with open('../data/googlemap/googlemap_area_poi.json', 'w') as json_file:\n",
    "    feature_collection = {'type': 'FeatureCollection',\n",
    "                          'features': formatted_features}\n",
    "    json.dump(feature_collection, json_file)"
   ],
   "metadata": {
    "collapsed": false,
    "pycharm": {
     "name": "#%%\n"
    }
   }
  }
 ],
 "metadata": {
  "kernelspec": {
   "display_name": "Python 3",
   "language": "python",
   "name": "python3"
  },
  "language_info": {
   "codemirror_mode": {
    "name": "ipython",
    "version": 2
   },
   "file_extension": ".py",
   "mimetype": "text/x-python",
   "name": "python",
   "nbconvert_exporter": "python",
   "pygments_lexer": "ipython2",
   "version": "2.7.6"
  }
 },
 "nbformat": 4,
 "nbformat_minor": 0
}